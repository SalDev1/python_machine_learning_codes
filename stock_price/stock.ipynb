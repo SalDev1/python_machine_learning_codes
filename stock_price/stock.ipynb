{
 "cells": [
  {
   "cell_type": "markdown",
   "metadata": {},
   "source": [
    "In this project we will predict the stock prices of Gold.\n",
    "(Linear Regression and Support Vector Machine Section)"
   ]
  },
  {
   "cell_type": "code",
   "execution_count": 1,
   "metadata": {},
   "outputs": [
    {
     "name": "stdout",
     "output_type": "stream",
     "text": [
      "hello world\n"
     ]
    }
   ],
   "source": [
    "print(\"hello world\")"
   ]
  },
  {
   "cell_type": "code",
   "execution_count": 4,
   "metadata": {},
   "outputs": [],
   "source": [
    "import numpy as np\n",
    "import pandas as pd\n",
    "\n",
    "import yfinance as yf\n",
    "\n",
    "# Visualization Libraries\n",
    "import seaborn as sns\n",
    "import matplotlib.pyplot as plt\n",
    "%matplotlib inline"
   ]
  },
  {
   "cell_type": "code",
   "execution_count": 5,
   "metadata": {},
   "outputs": [
    {
     "name": "stdout",
     "output_type": "stream",
     "text": [
      "[*********************100%***********************]  1 of 1 completed\n"
     ]
    },
    {
     "data": {
      "text/html": [
       "<div>\n",
       "<style scoped>\n",
       "    .dataframe tbody tr th:only-of-type {\n",
       "        vertical-align: middle;\n",
       "    }\n",
       "\n",
       "    .dataframe tbody tr th {\n",
       "        vertical-align: top;\n",
       "    }\n",
       "\n",
       "    .dataframe thead th {\n",
       "        text-align: right;\n",
       "    }\n",
       "</style>\n",
       "<table border=\"1\" class=\"dataframe\">\n",
       "  <thead>\n",
       "    <tr style=\"text-align: right;\">\n",
       "      <th></th>\n",
       "      <th>Open</th>\n",
       "      <th>High</th>\n",
       "      <th>Low</th>\n",
       "      <th>Close</th>\n",
       "      <th>Volume</th>\n",
       "    </tr>\n",
       "    <tr>\n",
       "      <th>Date</th>\n",
       "      <th></th>\n",
       "      <th></th>\n",
       "      <th></th>\n",
       "      <th></th>\n",
       "      <th></th>\n",
       "    </tr>\n",
       "  </thead>\n",
       "  <tbody>\n",
       "    <tr>\n",
       "      <th>2007-12-31</th>\n",
       "      <td>843.200012</td>\n",
       "      <td>843.200012</td>\n",
       "      <td>843.200012</td>\n",
       "      <td>834.900024</td>\n",
       "      <td>4</td>\n",
       "    </tr>\n",
       "    <tr>\n",
       "      <th>2008-01-02</th>\n",
       "      <td>848.700012</td>\n",
       "      <td>857.799988</td>\n",
       "      <td>846.400024</td>\n",
       "      <td>857.000000</td>\n",
       "      <td>130</td>\n",
       "    </tr>\n",
       "    <tr>\n",
       "      <th>2008-01-03</th>\n",
       "      <td>863.000000</td>\n",
       "      <td>865.500000</td>\n",
       "      <td>856.299988</td>\n",
       "      <td>866.400024</td>\n",
       "      <td>181</td>\n",
       "    </tr>\n",
       "    <tr>\n",
       "      <th>2008-01-04</th>\n",
       "      <td>861.400024</td>\n",
       "      <td>865.500000</td>\n",
       "      <td>860.200012</td>\n",
       "      <td>863.099976</td>\n",
       "      <td>28</td>\n",
       "    </tr>\n",
       "    <tr>\n",
       "      <th>2008-01-07</th>\n",
       "      <td>860.900024</td>\n",
       "      <td>860.900024</td>\n",
       "      <td>857.400024</td>\n",
       "      <td>859.599976</td>\n",
       "      <td>4</td>\n",
       "    </tr>\n",
       "  </tbody>\n",
       "</table>\n",
       "</div>"
      ],
      "text/plain": [
       "                  Open        High         Low       Close  Volume\n",
       "Date                                                              \n",
       "2007-12-31  843.200012  843.200012  843.200012  834.900024       4\n",
       "2008-01-02  848.700012  857.799988  846.400024  857.000000     130\n",
       "2008-01-03  863.000000  865.500000  856.299988  866.400024     181\n",
       "2008-01-04  861.400024  865.500000  860.200012  863.099976      28\n",
       "2008-01-07  860.900024  860.900024  857.400024  859.599976       4"
      ]
     },
     "execution_count": 5,
     "metadata": {},
     "output_type": "execute_result"
    }
   ],
   "source": [
    "# We will make stock price predictor of natural gas.\n",
    "stocks = input(\"Enter the code of the stock: \")\n",
    "data = yf.download(stocks, \"2008-01-01\" , \"2021-01-04\" ,auto_adjust=True)\n",
    "data.head()\n"
   ]
  },
  {
   "cell_type": "markdown",
   "metadata": {},
   "source": [
    "<!-- Data Exploration -->"
   ]
  },
  {
   "cell_type": "code",
   "execution_count": 6,
   "metadata": {},
   "outputs": [
    {
     "data": {
      "text/plain": [
       "(3272, 5)"
      ]
     },
     "execution_count": 6,
     "metadata": {},
     "output_type": "execute_result"
    }
   ],
   "source": [
    "data.shape"
   ]
  },
  {
   "cell_type": "code",
   "execution_count": 7,
   "metadata": {},
   "outputs": [
    {
     "data": {
      "text/plain": [
       "<bound method DataFrame.info of                    Open         High          Low        Close  Volume\n",
       "Date                                                                  \n",
       "2007-12-31   843.200012   843.200012   843.200012   834.900024       4\n",
       "2008-01-02   848.700012   857.799988   846.400024   857.000000     130\n",
       "2008-01-03   863.000000   865.500000   856.299988   866.400024     181\n",
       "2008-01-04   861.400024   865.500000   860.200012   863.099976      28\n",
       "2008-01-07   860.900024   860.900024   857.400024   859.599976       4\n",
       "...                 ...          ...          ...          ...     ...\n",
       "2020-12-24  1877.300049  1879.900024  1875.699951  1879.900024      46\n",
       "2020-12-28  1895.500000  1895.800049  1873.699951  1877.199951      75\n",
       "2020-12-29  1881.300049  1881.300049  1879.699951  1879.699951     343\n",
       "2020-12-30  1879.900024  1895.800049  1877.300049  1891.000000     444\n",
       "2020-12-31  1897.000000  1901.300049  1892.699951  1893.099976     127\n",
       "\n",
       "[3272 rows x 5 columns]>"
      ]
     },
     "execution_count": 7,
     "metadata": {},
     "output_type": "execute_result"
    }
   ],
   "source": [
    "data.info"
   ]
  },
  {
   "cell_type": "code",
   "execution_count": 8,
   "metadata": {},
   "outputs": [
    {
     "data": {
      "text/html": [
       "<div>\n",
       "<style scoped>\n",
       "    .dataframe tbody tr th:only-of-type {\n",
       "        vertical-align: middle;\n",
       "    }\n",
       "\n",
       "    .dataframe tbody tr th {\n",
       "        vertical-align: top;\n",
       "    }\n",
       "\n",
       "    .dataframe thead th {\n",
       "        text-align: right;\n",
       "    }\n",
       "</style>\n",
       "<table border=\"1\" class=\"dataframe\">\n",
       "  <thead>\n",
       "    <tr style=\"text-align: right;\">\n",
       "      <th></th>\n",
       "      <th>Open</th>\n",
       "      <th>High</th>\n",
       "      <th>Low</th>\n",
       "      <th>Close</th>\n",
       "      <th>Volume</th>\n",
       "    </tr>\n",
       "  </thead>\n",
       "  <tbody>\n",
       "    <tr>\n",
       "      <th>count</th>\n",
       "      <td>3272.000000</td>\n",
       "      <td>3272.000000</td>\n",
       "      <td>3272.000000</td>\n",
       "      <td>3272.000000</td>\n",
       "      <td>3272.000000</td>\n",
       "    </tr>\n",
       "    <tr>\n",
       "      <th>mean</th>\n",
       "      <td>1314.408833</td>\n",
       "      <td>1321.536920</td>\n",
       "      <td>1306.610728</td>\n",
       "      <td>1314.174450</td>\n",
       "      <td>5621.866443</td>\n",
       "    </tr>\n",
       "    <tr>\n",
       "      <th>std</th>\n",
       "      <td>261.328957</td>\n",
       "      <td>262.610764</td>\n",
       "      <td>259.927544</td>\n",
       "      <td>261.393937</td>\n",
       "      <td>29607.654225</td>\n",
       "    </tr>\n",
       "    <tr>\n",
       "      <th>min</th>\n",
       "      <td>705.000000</td>\n",
       "      <td>715.500000</td>\n",
       "      <td>681.000000</td>\n",
       "      <td>704.900024</td>\n",
       "      <td>0.000000</td>\n",
       "    </tr>\n",
       "    <tr>\n",
       "      <th>25%</th>\n",
       "      <td>1183.074982</td>\n",
       "      <td>1189.074982</td>\n",
       "      <td>1175.975006</td>\n",
       "      <td>1183.000000</td>\n",
       "      <td>41.000000</td>\n",
       "    </tr>\n",
       "    <tr>\n",
       "      <th>50%</th>\n",
       "      <td>1282.149963</td>\n",
       "      <td>1286.850037</td>\n",
       "      <td>1277.250000</td>\n",
       "      <td>1281.750000</td>\n",
       "      <td>137.000000</td>\n",
       "    </tr>\n",
       "    <tr>\n",
       "      <th>75%</th>\n",
       "      <td>1481.625000</td>\n",
       "      <td>1488.274994</td>\n",
       "      <td>1473.224976</td>\n",
       "      <td>1480.825043</td>\n",
       "      <td>445.000000</td>\n",
       "    </tr>\n",
       "    <tr>\n",
       "      <th>max</th>\n",
       "      <td>2045.500000</td>\n",
       "      <td>2063.000000</td>\n",
       "      <td>2040.000000</td>\n",
       "      <td>2051.500000</td>\n",
       "      <td>386334.000000</td>\n",
       "    </tr>\n",
       "  </tbody>\n",
       "</table>\n",
       "</div>"
      ],
      "text/plain": [
       "              Open         High          Low        Close         Volume\n",
       "count  3272.000000  3272.000000  3272.000000  3272.000000    3272.000000\n",
       "mean   1314.408833  1321.536920  1306.610728  1314.174450    5621.866443\n",
       "std     261.328957   262.610764   259.927544   261.393937   29607.654225\n",
       "min     705.000000   715.500000   681.000000   704.900024       0.000000\n",
       "25%    1183.074982  1189.074982  1175.975006  1183.000000      41.000000\n",
       "50%    1282.149963  1286.850037  1277.250000  1281.750000     137.000000\n",
       "75%    1481.625000  1488.274994  1473.224976  1480.825043     445.000000\n",
       "max    2045.500000  2063.000000  2040.000000  2051.500000  386334.000000"
      ]
     },
     "execution_count": 8,
     "metadata": {},
     "output_type": "execute_result"
    }
   ],
   "source": [
    "data.describe()"
   ]
  },
  {
   "cell_type": "code",
   "execution_count": 9,
   "metadata": {},
   "outputs": [
    {
     "data": {
      "image/png": "[encoded data removed]",
      "text/plain": [
       "<Figure size 720x504 with 1 Axes>"
      ]
     },
     "metadata": {
      "needs_background": "light"
     },
     "output_type": "display_data"
    }
   ],
   "source": [
    "data.Close.plot(figsize=(10,7) , color = 'r')\n",
    "plt.ylabel(\"{} Prices\".format(stocks))\n",
    "plt.title(\"{} Price Series\".format(stocks))\n",
    "plt.show()"
   ]
  },
  {
   "cell_type": "code",
   "execution_count": 10,
   "metadata": {},
   "outputs": [
    {
     "data": {
      "text/plain": [
       "<seaborn.axisgrid.FacetGrid at 0x1a72c5f22b0>"
      ]
     },
     "execution_count": 10,
     "metadata": {},
     "output_type": "execute_result"
    },
    {
     "data": {
      "image/png": "[encoded data removed]",
      "text/plain": [
       "<Figure size 360x360 with 1 Axes>"
      ]
     },
     "metadata": {
      "needs_background": "light"
     },
     "output_type": "display_data"
    }
   ],
   "source": [
    "sns.displot(data['Close'])"
   ]
  },
  {
   "cell_type": "code",
   "execution_count": 11,
   "metadata": {},
   "outputs": [
    {
     "data": {
      "text/plain": [
       "<seaborn.axisgrid.FacetGrid at 0x1a72c62e3a0>"
      ]
     },
     "execution_count": 11,
     "metadata": {},
     "output_type": "execute_result"
    },
    {
     "data": {
      "image/png": "[encoded data removed]",
      "text/plain": [
       "<Figure size 360x360 with 1 Axes>"
      ]
     },
     "metadata": {
      "needs_background": "light"
     },
     "output_type": "display_data"
    }
   ],
   "source": [
    "sns.displot(data['Open'])"
   ]
  },
  {
   "cell_type": "code",
   "execution_count": 12,
   "metadata": {},
   "outputs": [
    {
     "data": {
      "text/plain": [
       "<seaborn.axisgrid.FacetGrid at 0x1a72c749bb0>"
      ]
     },
     "execution_count": 12,
     "metadata": {},
     "output_type": "execute_result"
    },
    {
     "data": {
      "image/png": "[encoded data removed]",
      "text/plain": [
       "<Figure size 360x360 with 1 Axes>"
      ]
     },
     "metadata": {
      "needs_background": "light"
     },
     "output_type": "display_data"
    }
   ],
   "source": [
    "sns.displot(data['High'])"
   ]
  },
  {
   "cell_type": "markdown",
   "metadata": {},
   "source": [
    "Conclusions\n",
    "What we have understood \n",
    "\n",
    "- Shape of the data \n",
    "- How our data is distributed\n",
    "- It very very non linear \n",
    "- Stock price predictor is very competitative in the market.\n",
    "\n",
    "\n",
    "\n",
    "Linear , Logistic , Regularized , SVM (Support Vector Machines) \n",
    "Linear and regularized models works best in this case."
   ]
  },
  {
   "cell_type": "code",
   "execution_count": 14,
   "metadata": {},
   "outputs": [
    {
     "name": "stdout",
     "output_type": "stream",
     "text": [
      "(2617, 4)\n",
      "(655, 4)\n",
      "(2617,)\n",
      "(655,)\n"
     ]
    }
   ],
   "source": [
    "# For X-axis we are simply taking all the Open values, except the close value.\n",
    "X = data.drop(\"Close\" , axis=1)\n",
    "y = data[\"Close\"]  # This will tell us the direct of the stocks\n",
    "\n",
    "\n",
    "from sklearn.model_selection import train_test_split\n",
    "\n",
    "X_train , X_test , y_train , y_test = train_test_split(X,y,test_size=0.2 , random_state=0)\n",
    "\n",
    "# We have divided the data into Training set and Test set.\n",
    "# 80% Data in training set === 20% Data in the testing set\n",
    "print(X_train.shape)\n",
    "print(X_test.shape)\n",
    "print(y_train.shape)\n",
    "print(y_test.shape)"
   ]
  },
  {
   "cell_type": "markdown",
   "metadata": {},
   "source": [
    "random_state = if you run your code one more time , you data will not be changed to your shuffle. So your data will not be changed.\n"
   ]
  },
  {
   "cell_type": "code",
   "execution_count": 15,
   "metadata": {},
   "outputs": [],
   "source": [
    "# Moving on the Modelling Part \n",
    "# Linear Regression\n",
    "\n",
    "from sklearn.linear_model import LinearRegression\n",
    "\n",
    "\n",
    "lr = LinearRegression()\n",
    "lr.fit(X_train , y_train)\n",
    "pred1 = lr.predict(X_test)\n"
   ]
  },
  {
   "cell_type": "code",
   "execution_count": 16,
   "metadata": {},
   "outputs": [
    {
     "name": "stdout",
     "output_type": "stream",
     "text": [
      "MSE:  31.941263748242168\n",
      "RMSE:  5.651660264757797\n",
      "R2_Score :  0.999559655373663\n"
     ]
    }
   ],
   "source": [
    "# MSE --> Mean Squared\n",
    "# RSE --> Root Mean Squared\n",
    "#r2_square --> 1.0 (good model)\n",
    "\n",
    "from sklearn.metrics import mean_squared_error , r2_score\n",
    "\n",
    "def calculate_metrics(y_test , y_pred):\n",
    "\n",
    "   # y_test : ground truth / actual label\n",
    "   # y_pred : model predict value\n",
    "\n",
    "    mse =  mean_squared_error(y_test , y_pred)\n",
    "    rmse = np.sqrt(mse)\n",
    "    r2_scors = r2_score(y_test , y_pred)\n",
    "    print(\"MSE: \" , mse)\n",
    "    print(\"RMSE: \" , rmse)\n",
    "    print(\"R2_Score : \" , r2_scors)\n",
    "\n",
    "calculate_metrics(y_test , pred1)"
   ]
  },
  {
   "cell_type": "code",
   "execution_count": 18,
   "metadata": {},
   "outputs": [
    {
     "name": "stdout",
     "output_type": "stream",
     "text": [
      "MSE:  43.782786719489984\n",
      "RMSE:  6.6168562565231825\n",
      "R2_Score :  0.9993964072614676\n",
      "MSE:  31.941234103431302\n",
      "RMSE:  5.651657642093274\n",
      "R2_Score :  0.9995596557823485\n"
     ]
    },
    {
     "name": "stderr",
     "output_type": "stream",
     "text": [
      "C:\\Users\\user\\AppData\\Local\\Programs\\Python\\Python39\\lib\\site-packages\\sklearn\\linear_model\\_coordinate_descent.py:647: ConvergenceWarning: Objective did not converge. You might want to increase the number of iterations, check the scale of the features or consider increasing regularisation. Duality gap: 5.614e+04, tolerance: 1.758e+04\n",
      "  model = cd_fast.enet_coordinate_descent(\n"
     ]
    }
   ],
   "source": [
    "from sklearn.linear_model import Lasso , Ridge\n",
    "# It simply removes the least important features\n",
    "\n",
    "la = Lasso().fit(X_train , y_train)\n",
    "ri = Ridge().fit(X_train , y_train)\n",
    "\n",
    "la_p = la.predict(X_test)\n",
    "ri_p = ri.predict(X_test)\n",
    "\n",
    "# Check the prediction using Lasso Regression and it is less prone to overfitting\n",
    "calculate_metrics(y_test , la_p)\n",
    "\n",
    "# Check the prediction using rigiod regression and it is less prone to overfitting as well\n",
    "# Similar result to Linear Regression\n",
    "calculate_metrics(y_test , ri_p)\n"
   ]
  },
  {
   "cell_type": "code",
   "execution_count": 20,
   "metadata": {},
   "outputs": [
    {
     "name": "stdout",
     "output_type": "stream",
     "text": [
      "Fitting 5 folds for each of 25 candidates, totalling 125 fits\n",
      "[CV 1/5] END .......C=0.1, gamma=1, kernel=rbf;, score=-0.025 total time=   0.4s\n",
      "[CV 2/5] END .......C=0.1, gamma=1, kernel=rbf;, score=-0.013 total time=   0.4s\n",
      "[CV 3/5] END .......C=0.1, gamma=1, kernel=rbf;, score=-0.001 total time=   0.4s\n",
      "[CV 4/5] END .......C=0.1, gamma=1, kernel=rbf;, score=-0.006 total time=   0.3s\n",
      "[CV 5/5] END .......C=0.1, gamma=1, kernel=rbf;, score=-0.031 total time=   0.4s\n",
      "[CV 1/5] END .....C=0.1, gamma=0.1, kernel=rbf;, score=-0.025 total time=   0.4s\n",
      "[CV 2/5] END .....C=0.1, gamma=0.1, kernel=rbf;, score=-0.013 total time=   0.3s\n",
      "[CV 3/5] END .....C=0.1, gamma=0.1, kernel=rbf;, score=-0.001 total time=   0.4s\n",
      "[CV 4/5] END .....C=0.1, gamma=0.1, kernel=rbf;, score=-0.006 total time=   0.4s\n",
      "[CV 5/5] END .....C=0.1, gamma=0.1, kernel=rbf;, score=-0.031 total time=   0.3s\n",
      "[CV 1/5] END ....C=0.1, gamma=0.01, kernel=rbf;, score=-0.025 total time=   0.3s\n",
      "[CV 2/5] END ....C=0.1, gamma=0.01, kernel=rbf;, score=-0.013 total time=   0.4s\n",
      "[CV 3/5] END ....C=0.1, gamma=0.01, kernel=rbf;, score=-0.001 total time=   0.3s\n",
      "[CV 4/5] END ....C=0.1, gamma=0.01, kernel=rbf;, score=-0.006 total time=   0.3s\n",
      "[CV 5/5] END ....C=0.1, gamma=0.01, kernel=rbf;, score=-0.031 total time=   0.5s\n",
      "[CV 1/5] END ...C=0.1, gamma=0.001, kernel=rbf;, score=-0.023 total time=   0.3s\n",
      "[CV 2/5] END ...C=0.1, gamma=0.001, kernel=rbf;, score=-0.010 total time=   0.4s\n",
      "[CV 3/5] END ....C=0.1, gamma=0.001, kernel=rbf;, score=0.001 total time=   0.4s\n",
      "[CV 4/5] END ...C=0.1, gamma=0.001, kernel=rbf;, score=-0.003 total time=   0.3s\n",
      "[CV 5/5] END ...C=0.1, gamma=0.001, kernel=rbf;, score=-0.029 total time=   0.3s\n",
      "[CV 1/5] END ....C=0.1, gamma=1e-05, kernel=rbf;, score=0.068 total time=   0.2s\n",
      "[CV 2/5] END ....C=0.1, gamma=1e-05, kernel=rbf;, score=0.086 total time=   0.2s\n",
      "[CV 3/5] END ....C=0.1, gamma=1e-05, kernel=rbf;, score=0.087 total time=   0.2s\n",
      "[CV 4/5] END ....C=0.1, gamma=1e-05, kernel=rbf;, score=0.087 total time=   0.2s\n",
      "[CV 5/5] END ....C=0.1, gamma=1e-05, kernel=rbf;, score=0.061 total time=   0.2s\n",
      "[CV 1/5] END .........C=1, gamma=1, kernel=rbf;, score=-0.025 total time=   0.3s\n",
      "[CV 2/5] END .........C=1, gamma=1, kernel=rbf;, score=-0.013 total time=   0.4s\n",
      "[CV 3/5] END .........C=1, gamma=1, kernel=rbf;, score=-0.001 total time=   0.3s\n",
      "[CV 4/5] END .........C=1, gamma=1, kernel=rbf;, score=-0.006 total time=   0.4s\n",
      "[CV 5/5] END .........C=1, gamma=1, kernel=rbf;, score=-0.031 total time=   0.4s\n",
      "[CV 1/5] END .......C=1, gamma=0.1, kernel=rbf;, score=-0.025 total time=   0.3s\n",
      "[CV 2/5] END .......C=1, gamma=0.1, kernel=rbf;, score=-0.013 total time=   0.4s\n",
      "[CV 3/5] END .......C=1, gamma=0.1, kernel=rbf;, score=-0.001 total time=   0.4s\n",
      "[CV 4/5] END .......C=1, gamma=0.1, kernel=rbf;, score=-0.006 total time=   0.3s\n",
      "[CV 5/5] END .......C=1, gamma=0.1, kernel=rbf;, score=-0.031 total time=   0.4s\n",
      "[CV 1/5] END ......C=1, gamma=0.01, kernel=rbf;, score=-0.024 total time=   0.3s\n",
      "[CV 2/5] END ......C=1, gamma=0.01, kernel=rbf;, score=-0.012 total time=   0.3s\n",
      "[CV 3/5] END .......C=1, gamma=0.01, kernel=rbf;, score=0.001 total time=   0.3s\n",
      "[CV 4/5] END ......C=1, gamma=0.01, kernel=rbf;, score=-0.004 total time=   0.3s\n",
      "[CV 5/5] END ......C=1, gamma=0.01, kernel=rbf;, score=-0.030 total time=   0.4s\n",
      "[CV 1/5] END .....C=1, gamma=0.001, kernel=rbf;, score=-0.000 total time=   0.3s\n",
      "[CV 2/5] END ......C=1, gamma=0.001, kernel=rbf;, score=0.015 total time=   0.3s\n",
      "[CV 3/5] END ......C=1, gamma=0.001, kernel=rbf;, score=0.024 total time=   0.3s\n",
      "[CV 4/5] END ......C=1, gamma=0.001, kernel=rbf;, score=0.022 total time=   0.3s\n",
      "[CV 5/5] END .....C=1, gamma=0.001, kernel=rbf;, score=-0.006 total time=   0.3s\n",
      "[CV 1/5] END ......C=1, gamma=1e-05, kernel=rbf;, score=0.523 total time=   0.2s\n",
      "[CV 2/5] END ......C=1, gamma=1e-05, kernel=rbf;, score=0.570 total time=   0.2s\n",
      "[CV 3/5] END ......C=1, gamma=1e-05, kernel=rbf;, score=0.521 total time=   0.2s\n",
      "[CV 4/5] END ......C=1, gamma=1e-05, kernel=rbf;, score=0.529 total time=   0.2s\n",
      "[CV 5/5] END ......C=1, gamma=1e-05, kernel=rbf;, score=0.508 total time=   0.2s\n",
      "[CV 1/5] END ........C=10, gamma=1, kernel=rbf;, score=-0.026 total time=   0.4s\n",
      "[CV 2/5] END ........C=10, gamma=1, kernel=rbf;, score=-0.013 total time=   0.4s\n",
      "[CV 3/5] END ........C=10, gamma=1, kernel=rbf;, score=-0.002 total time=   0.4s\n",
      "[CV 4/5] END ........C=10, gamma=1, kernel=rbf;, score=-0.007 total time=   0.3s\n",
      "[CV 5/5] END ........C=10, gamma=1, kernel=rbf;, score=-0.030 total time=   0.4s\n",
      "[CV 1/5] END ......C=10, gamma=0.1, kernel=rbf;, score=-0.025 total time=   0.4s\n",
      "[CV 2/5] END ......C=10, gamma=0.1, kernel=rbf;, score=-0.013 total time=   0.4s\n",
      "[CV 3/5] END ......C=10, gamma=0.1, kernel=rbf;, score=-0.001 total time=   0.4s\n",
      "[CV 4/5] END ......C=10, gamma=0.1, kernel=rbf;, score=-0.005 total time=   0.3s\n",
      "[CV 5/5] END ......C=10, gamma=0.1, kernel=rbf;, score=-0.030 total time=   0.4s\n",
      "[CV 1/5] END .....C=10, gamma=0.01, kernel=rbf;, score=-0.007 total time=   0.3s\n",
      "[CV 2/5] END ......C=10, gamma=0.01, kernel=rbf;, score=0.007 total time=   0.3s\n",
      "[CV 3/5] END ......C=10, gamma=0.01, kernel=rbf;, score=0.017 total time=   0.4s\n",
      "[CV 4/5] END ......C=10, gamma=0.01, kernel=rbf;, score=0.014 total time=   0.3s\n",
      "[CV 5/5] END .....C=10, gamma=0.01, kernel=rbf;, score=-0.013 total time=   0.4s\n",
      "[CV 1/5] END .....C=10, gamma=0.001, kernel=rbf;, score=0.170 total time=   0.3s\n",
      "[CV 2/5] END .....C=10, gamma=0.001, kernel=rbf;, score=0.199 total time=   0.3s\n",
      "[CV 3/5] END .....C=10, gamma=0.001, kernel=rbf;, score=0.181 total time=   0.3s\n",
      "[CV 4/5] END .....C=10, gamma=0.001, kernel=rbf;, score=0.193 total time=   0.3s\n",
      "[CV 5/5] END .....C=10, gamma=0.001, kernel=rbf;, score=0.157 total time=   0.3s\n",
      "[CV 1/5] END .....C=10, gamma=1e-05, kernel=rbf;, score=0.879 total time=   0.2s\n",
      "[CV 2/5] END .....C=10, gamma=1e-05, kernel=rbf;, score=0.875 total time=   0.2s\n",
      "[CV 3/5] END .....C=10, gamma=1e-05, kernel=rbf;, score=0.853 total time=   0.2s\n",
      "[CV 4/5] END .....C=10, gamma=1e-05, kernel=rbf;, score=0.841 total time=   0.2s\n",
      "[CV 5/5] END .....C=10, gamma=1e-05, kernel=rbf;, score=0.870 total time=   0.2s\n",
      "[CV 1/5] END .......C=100, gamma=1, kernel=rbf;, score=-0.024 total time=   0.4s\n",
      "[CV 2/5] END .......C=100, gamma=1, kernel=rbf;, score=-0.010 total time=   0.4s\n",
      "[CV 3/5] END .......C=100, gamma=1, kernel=rbf;, score=-0.000 total time=   0.4s\n",
      "[CV 4/5] END .......C=100, gamma=1, kernel=rbf;, score=-0.004 total time=   0.4s\n",
      "[CV 5/5] END .......C=100, gamma=1, kernel=rbf;, score=-0.029 total time=   0.4s\n",
      "[CV 1/5] END .....C=100, gamma=0.1, kernel=rbf;, score=-0.014 total time=   0.4s\n",
      "[CV 2/5] END .....C=100, gamma=0.1, kernel=rbf;, score=-0.004 total time=   0.4s\n",
      "[CV 3/5] END ......C=100, gamma=0.1, kernel=rbf;, score=0.006 total time=   0.4s\n",
      "[CV 4/5] END ......C=100, gamma=0.1, kernel=rbf;, score=0.006 total time=   0.4s\n",
      "[CV 5/5] END .....C=100, gamma=0.1, kernel=rbf;, score=-0.021 total time=   0.4s\n",
      "[CV 1/5] END .....C=100, gamma=0.01, kernel=rbf;, score=0.117 total time=   0.5s\n",
      "[CV 2/5] END .....C=100, gamma=0.01, kernel=rbf;, score=0.129 total time=   0.5s\n",
      "[CV 3/5] END .....C=100, gamma=0.01, kernel=rbf;, score=0.124 total time=   0.5s\n",
      "[CV 4/5] END .....C=100, gamma=0.01, kernel=rbf;, score=0.132 total time=   0.5s\n",
      "[CV 5/5] END .....C=100, gamma=0.01, kernel=rbf;, score=0.099 total time=   0.5s\n",
      "[CV 1/5] END ....C=100, gamma=0.001, kernel=rbf;, score=0.562 total time=   0.8s\n",
      "[CV 2/5] END ....C=100, gamma=0.001, kernel=rbf;, score=0.621 total time=   0.7s\n",
      "[CV 3/5] END ....C=100, gamma=0.001, kernel=rbf;, score=0.585 total time=   0.7s\n",
      "[CV 4/5] END ....C=100, gamma=0.001, kernel=rbf;, score=0.583 total time=   0.8s\n",
      "[CV 5/5] END ....C=100, gamma=0.001, kernel=rbf;, score=0.564 total time=   1.1s\n",
      "[CV 1/5] END ....C=100, gamma=1e-05, kernel=rbf;, score=0.948 total time=   0.5s\n",
      "[CV 2/5] END ....C=100, gamma=1e-05, kernel=rbf;, score=0.936 total time=   0.7s\n",
      "[CV 3/5] END ....C=100, gamma=1e-05, kernel=rbf;, score=0.922 total time=   0.9s\n",
      "[CV 4/5] END ....C=100, gamma=1e-05, kernel=rbf;, score=0.925 total time=   0.7s\n",
      "[CV 5/5] END ....C=100, gamma=1e-05, kernel=rbf;, score=0.931 total time=   0.7s\n",
      "[CV 1/5] END ......C=1000, gamma=1, kernel=rbf;, score=-0.002 total time=   0.9s\n",
      "[CV 2/5] END .......C=1000, gamma=1, kernel=rbf;, score=0.000 total time=   0.6s\n",
      "[CV 3/5] END ......C=1000, gamma=1, kernel=rbf;, score=-0.004 total time=   0.8s\n",
      "[CV 4/5] END .......C=1000, gamma=1, kernel=rbf;, score=0.001 total time=   0.7s\n",
      "[CV 5/5] END ......C=1000, gamma=1, kernel=rbf;, score=-0.004 total time=   0.7s\n",
      "[CV 1/5] END .....C=1000, gamma=0.1, kernel=rbf;, score=0.021 total time=   0.8s\n",
      "[CV 2/5] END .....C=1000, gamma=0.1, kernel=rbf;, score=0.014 total time=   0.5s\n",
      "[CV 3/5] END .....C=1000, gamma=0.1, kernel=rbf;, score=0.010 total time=   0.6s\n",
      "[CV 4/5] END .....C=1000, gamma=0.1, kernel=rbf;, score=0.025 total time=   0.5s\n",
      "[CV 5/5] END .....C=1000, gamma=0.1, kernel=rbf;, score=0.016 total time=   0.5s\n",
      "[CV 1/5] END ....C=1000, gamma=0.01, kernel=rbf;, score=0.254 total time=   1.0s\n",
      "[CV 2/5] END ....C=1000, gamma=0.01, kernel=rbf;, score=0.268 total time=   0.8s\n",
      "[CV 3/5] END ....C=1000, gamma=0.01, kernel=rbf;, score=0.237 total time=   0.8s\n",
      "[CV 4/5] END ....C=1000, gamma=0.01, kernel=rbf;, score=0.246 total time=   0.7s\n",
      "[CV 5/5] END ....C=1000, gamma=0.01, kernel=rbf;, score=0.222 total time=   0.8s\n",
      "[CV 1/5] END ...C=1000, gamma=0.001, kernel=rbf;, score=0.729 total time=   6.9s\n",
      "[CV 2/5] END ...C=1000, gamma=0.001, kernel=rbf;, score=0.745 total time=   5.3s\n",
      "[CV 3/5] END ...C=1000, gamma=0.001, kernel=rbf;, score=0.710 total time=   6.4s\n",
      "[CV 4/5] END ...C=1000, gamma=0.001, kernel=rbf;, score=0.710 total time=   6.1s\n",
      "[CV 5/5] END ...C=1000, gamma=0.001, kernel=rbf;, score=0.714 total time=   6.3s\n",
      "[CV 1/5] END ...C=1000, gamma=1e-05, kernel=rbf;, score=0.959 total time=   2.1s\n",
      "[CV 2/5] END ...C=1000, gamma=1e-05, kernel=rbf;, score=0.947 total time=   1.4s\n",
      "[CV 3/5] END ...C=1000, gamma=1e-05, kernel=rbf;, score=0.943 total time=   1.3s\n",
      "[CV 4/5] END ...C=1000, gamma=1e-05, kernel=rbf;, score=0.950 total time=   1.7s\n",
      "[CV 5/5] END ...C=1000, gamma=1e-05, kernel=rbf;, score=0.947 total time=   1.6s\n"
     ]
    },
    {
     "data": {
      "text/plain": [
       "GridSearchCV(estimator=SVR(),\n",
       "             param_grid={'C': [0.1, 1, 10, 100, 1000],\n",
       "                         'gamma': [1, 0.1, 0.01, 0.001, 1e-05],\n",
       "                         'kernel': ['rbf']},\n",
       "             verbose=3)"
      ]
     },
     "execution_count": 20,
     "metadata": {},
     "output_type": "execute_result"
    }
   ],
   "source": [
    "# For SVM , if you have a lot of features it should work well with the data\n",
    "from sklearn.svm import SVR\n",
    "from sklearn.model_selection import GridSearchCV\n",
    "\n",
    "svr = SVR()\n",
    "\n",
    "# We use this params_grid to check how model reacts or predicts with different values.\n",
    "param_grid = {'C' : [0.1,1,10,100,1000] , 'gamma' : [1,0.1,0.01,0.001,0.00001] , 'kernel' : ['rbf']}\n",
    "\n",
    "grid = GridSearchCV(SVR() , param_grid , refit=True, verbose=3)\n",
    "grid.fit(X_train , y_train)"
   ]
  },
  {
   "cell_type": "code",
   "execution_count": null,
   "metadata": {},
   "outputs": [],
   "source": [
    "svr = SVR(C=10 , gamma = 0.01 , kernel = 'rbf')\n",
    "svr.fit(X_train , y_train)\n",
    "svr_pred = svr.predict(X_test)"
   ]
  },
  {
   "cell_type": "code",
   "execution_count": 21,
   "metadata": {},
   "outputs": [
    {
     "ename": "AttributeError",
     "evalue": "module 'joblib' has no attribute 'dumps'",
     "output_type": "error",
     "traceback": [
      "\u001b[1;31m---------------------------------------------------------------------------\u001b[0m",
      "\u001b[1;31mAttributeError\u001b[0m                            Traceback (most recent call last)",
      "\u001b[1;32m~\\AppData\\Local\\Temp/ipykernel_11912/4108531691.py\u001b[0m in \u001b[0;36m<module>\u001b[1;34m\u001b[0m\n\u001b[0;32m      2\u001b[0m \u001b[1;32mimport\u001b[0m \u001b[0mjoblib\u001b[0m\u001b[1;33m\u001b[0m\u001b[1;33m\u001b[0m\u001b[0m\n\u001b[0;32m      3\u001b[0m \u001b[1;33m\u001b[0m\u001b[0m\n\u001b[1;32m----> 4\u001b[1;33m \u001b[0mjoblib\u001b[0m\u001b[1;33m.\u001b[0m\u001b[0mdumps\u001b[0m\u001b[1;33m(\u001b[0m\u001b[0mri\u001b[0m\u001b[1;33m,\u001b[0m \u001b[1;34m'model.pkl'\u001b[0m\u001b[1;33m)\u001b[0m\u001b[1;33m\u001b[0m\u001b[1;33m\u001b[0m\u001b[0m\n\u001b[0m\u001b[0;32m      5\u001b[0m \u001b[0mridge_from_joblib\u001b[0m \u001b[1;33m=\u001b[0m \u001b[0mmodel\u001b[0m \u001b[1;33m=\u001b[0m \u001b[0mjoblib\u001b[0m\u001b[1;33m.\u001b[0m\u001b[0mload\u001b[0m\u001b[1;33m(\u001b[0m\u001b[1;34m\"model.pk1\"\u001b[0m\u001b[1;33m)\u001b[0m\u001b[1;33m\u001b[0m\u001b[1;33m\u001b[0m\u001b[0m\n",
      "\u001b[1;31mAttributeError\u001b[0m: module 'joblib' has no attribute 'dumps'"
     ]
    }
   ],
   "source": [
    "# We use this library to save   this model == joblib\n",
    "import joblib \n",
    "\n",
    "joblib.dumps(ri, 'model.pkl')\n",
    "ridge_from_joblib = model = joblib.load(\"model.pk1\")"
   ]
  }
 ],
 "metadata": {
  "interpreter": {
   "hash": "247ab06e135bb35fa78c5eff31b2a9a0050dcb5fb773c2631d2a29ac689eeccb"
  },
  "kernelspec": {
   "display_name": "Python 3.9.7 64-bit",
   "language": "python",
   "name": "python3"
  },
  "language_info": {
   "codemirror_mode": {
    "name": "ipython",
    "version": 3
   },
   "file_extension": ".py",
   "mimetype": "text/x-python",
   "name": "python",
   "nbconvert_exporter": "python",
   "pygments_lexer": "ipython3",
   "version": "3.9.7"
  },
  "orig_nbformat": 4
 },
 "nbformat": 4,
 "nbformat_minor": 2
}
