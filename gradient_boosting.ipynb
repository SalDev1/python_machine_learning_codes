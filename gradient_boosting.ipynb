{
 "cells": [
  {
   "cell_type": "code",
   "execution_count": 1,
   "metadata": {},
   "outputs": [],
   "source": [
    "from sklearn.datasets import make_hastie_10_2\n",
    "from sklearn.ensemble import GradientBoostingClassifier"
   ]
  },
  {
   "cell_type": "code",
   "execution_count": 9,
   "metadata": {},
   "outputs": [
    {
     "name": "stdout",
     "output_type": "stream",
     "text": [
      "[[ 1.76405235  0.40015721  0.97873798 ... -0.15135721 -0.10321885\n",
      "   0.4105985 ]\n",
      " [ 0.14404357  1.45427351  0.76103773 ... -0.20515826  0.3130677\n",
      "  -0.85409574]\n",
      " [-2.55298982  0.6536186   0.8644362  ... -0.18718385  1.53277921\n",
      "   1.46935877]\n",
      " ...\n",
      " [ 1.90281343 -0.24274512 -0.91174314 ... -0.7888105   0.20570363\n",
      "   0.34291633]\n",
      " [-0.75590132  0.9190708   1.53418368 ... -0.87764821 -0.98026165\n",
      "   2.3940371 ]\n",
      " [ 1.6527679   2.01816098  0.06696846 ... -0.05725925 -1.05893126\n",
      "  -0.32652844]]\n",
      "[[ 3.30045889e-01 -4.79979434e-04  8.18115898e-01 ...  6.02120978e-01\n",
      "  -8.65190000e-01 -1.53320351e-01]\n",
      " [-2.40490559e-01 -6.07633463e-02  5.32866124e-01 ...  9.30255080e-01\n",
      "   4.05182611e-01  2.04002481e-01]\n",
      " [-8.22765590e-01 -1.27687431e+00 -2.26436874e-01 ...  7.79633652e-01\n",
      "   4.54984017e-01 -1.30343574e+00]\n",
      " ...\n",
      " [ 1.99864648e-01  2.61345779e-01 -1.27986805e-01 ... -5.17182892e-01\n",
      "   7.96941407e-02  1.01612661e+00]\n",
      " [-1.51673157e-01 -1.42519962e+00  1.07092211e+00 ... -1.20676602e+00\n",
      "  -1.04746487e+00  7.58810151e-03]\n",
      " [-9.70899830e-02  7.80444250e-01  2.21081520e-01 ...  2.53170549e+00\n",
      "  -3.57220345e-02  1.73200191e-01]]\n",
      "[-1. -1. -1. ... -1. -1.  1.]\n",
      "[ 1. -1.  1. ...  1.  1.  1.]\n"
     ]
    }
   ],
   "source": [
    "X, y = make_hastie_10_2(random_state = 0)\n",
    "X_train , X_test =X[:2000],X[2000:]\n",
    "y_train , y_test = y[:2000] ,y[2000:]\n",
    "\n",
    "print(X_train)\n",
    "print(X_test)\n",
    "print(y_test)\n",
    "print(y_train)"
   ]
  },
  {
   "cell_type": "code",
   "execution_count": 8,
   "metadata": {},
   "outputs": [
    {
     "data": {
      "text/plain": [
       "0.8189"
      ]
     },
     "execution_count": 8,
     "metadata": {},
     "output_type": "execute_result"
    }
   ],
   "source": [
    "clf = GradientBoostingClassifier(n_estimators=100 , learning_rate = 1.0, max_depth = 1 , random_state = 0).fit(X_train , y_train)\n",
    "clf.score(X_test , y_test)"
   ]
  }
 ],
 "metadata": {
  "interpreter": {
   "hash": "247ab06e135bb35fa78c5eff31b2a9a0050dcb5fb773c2631d2a29ac689eeccb"
  },
  "kernelspec": {
   "display_name": "Python 3.9.7 64-bit",
   "language": "python",
   "name": "python3"
  },
  "language_info": {
   "codemirror_mode": {
    "name": "ipython",
    "version": 3
   },
   "file_extension": ".py",
   "mimetype": "text/x-python",
   "name": "python",
   "nbconvert_exporter": "python",
   "pygments_lexer": "ipython3",
   "version": "3.9.7"
  },
  "orig_nbformat": 4
 },
 "nbformat": 4,
 "nbformat_minor": 2
}
